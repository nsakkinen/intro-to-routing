{
 "cells": [
  {
   "cell_type": "markdown",
   "metadata": {},
   "source": [
    "# Elementary Routing  Part 1"
   ]
  },
  {
   "cell_type": "markdown",
   "metadata": {},
   "source": [
    "## Introduction"
   ]
  },
  {
   "cell_type": "markdown",
   "metadata": {},
   "source": [
    "In this notebook, I introduce, mainly to myself, some elementary notions related to the __[Vehicle Routing Problem](https://en.wikipedia.org/wiki/Vehicle_routing_problem)__ (VRP). Specifically, I focus on the __[Traveling Salesman Problem](https://en.wikipedia.org/wiki/Travelling_salesman_problem)__ by going through the basic problem formulation and its solution using the IBM&copy; ILOG&copy; CPLEX optimization suite. This introduction has been motivated by related problems which I have had the pleasure of working with as a Data Scientist Trainee at IBM Finland. For the technicalities, I follow __[The Vehicle Routing Problem](https://doi.org/10.1137/1.9780898718515)__, the relavant part of which is the first overview chapter. Other references are provided in the following as needed but I have found in particular __[IBM&copy; Decision Optimization Tutorial](https://rawgit.com/IBMDecisionOptimization/docplex-doc/master/docs/mp/index.html)__ useful. \n",
    "\n",
    "In order to make this light introduction, since its soon Christmas, even lighter, I have decided to phrase it in terms of a backstory which goes as follows. It is Christmas Eve, HRK has promised to be a surrogata Santa for some of her friends families with children. True Santa is unable to make it this year and HRK hopes to save the childrens Christmases. Only thing, is that she has promized to help four families, requests kept coming and she could not refuse, and she is not sure how she can make it. HRK decides to prepare for the Christmas Eve systematically so that she does not fail anyones expectations. Having heard about decision optimization, she decides a give a go at finding an optimal plan how to visit the families. \n",
    "\n",
    "In the following, we will examine her problem, restate it as a mathematical model and finally solve it numerically to arrice at an optimal visiting plan."
   ]
  },
  {
   "cell_type": "markdown",
   "metadata": {},
   "source": [
    "## 1 Preliminariies"
   ]
  },
  {
   "cell_type": "markdown",
   "metadata": {},
   "source": [
    "The required libraries listed in"
   ]
  },
  {
   "cell_type": "code",
   "execution_count": 1,
   "metadata": {},
   "outputs": [],
   "source": [
    "import googlemaps\n",
    "import numpy as np\n",
    "import matplotlib.pyplot as plt\n",
    "import networkx as nx\n",
    "\n",
    "from datetime import datetime\n",
    "from docplex.mp.model import Model"
   ]
  },
  {
   "cell_type": "markdown",
   "metadata": {},
   "source": [
    "are all freely available."
   ]
  },
  {
   "cell_type": "markdown",
   "metadata": {},
   "source": [
    "## 2 Data"
   ]
  },
  {
   "cell_type": "markdown",
   "metadata": {},
   "source": [
    "In order to prepare a travel plan, we first need some estimates of how long does it take to go from one home to another. We know that she plans to use her electric car to make the trips. Then the travel times can be easily extracted from Google Maps using the __[googlemaps](https://googlemaps.github.io/google-maps-services-python/docs/#)__ python library. Some easy to understand use instructions can be found from __[Getting started with Google Maps in Python](https://blog.goodaudience.com/google-maps-in-python-part-2-393f96196eaf)__. We start by listing the latitude and longitude coordinates of the homes she is going to visit."
   ]
  },
  {
   "cell_type": "code",
   "execution_count": 2,
   "metadata": {},
   "outputs": [],
   "source": [
    "location=[\n",
    "    '60.199462,24.876161',\n",
    "    '60.219266,24.780629',\n",
    "    '60.292905,25.044046',\n",
    "    '60.210470,24.964479',\n",
    "    '60.159734,24.876626'\n",
    "    ]"
   ]
  },
  {
   "cell_type": "markdown",
   "metadata": {},
   "source": [
    "Next, we write a function which extracts the travel times between the homes. This requires a __[Google Maps API key](https://developers.google.com/maps/documentation/embed/get-api-key)__, which is here read from a local file. Furthermore, we need to fix the date and time when the visits are to made. For this, we choose the Christmas Eve at 4pm thereby assuming that this choice is a good representative for all of the travel times. "
   ]
  },
  {
   "cell_type": "code",
   "execution_count": 3,
   "metadata": {},
   "outputs": [],
   "source": [
    "with open('google_apikey.txt') as f:\n",
    "    api_key=f.readline().rstrip('\\n')\n",
    "    f.close"
   ]
  },
  {
   "cell_type": "code",
   "execution_count": 4,
   "metadata": {},
   "outputs": [],
   "source": [
    "def get_distance(a,b):\n",
    "    gmaps=googlemaps.Client(key=api_key)\n",
    "    now=datetime(2018,12,24,16)\n",
    "    directions=gmaps.directions(\n",
    "        a,\n",
    "        b,\n",
    "        mode='driving',\n",
    "        departure_time=now)\n",
    "    return directions[0]['legs'][0]['duration']['value']"
   ]
  },
  {
   "cell_type": "markdown",
   "metadata": {},
   "source": [
    "The travel times for the locations of interest can now be easily extracted and stored to a cost matrix the purpose of which becomes soon clear."
   ]
  },
  {
   "cell_type": "code",
   "execution_count": 5,
   "metadata": {},
   "outputs": [],
   "source": [
    "n=len(location)\n",
    "cost=np.zeros((n,n))\n",
    "for i in range(n):\n",
    "    for j in range(n):\n",
    "        cost[i,j]=get_distance(location[i],location[j])/3600"
   ]
  },
  {
   "cell_type": "markdown",
   "metadata": {},
   "source": [
    "It is noteworthy that the travel times are stored in units of hours, They are moreover asymmetric meaning that the direction in which a tour is taken matters."
   ]
  },
  {
   "cell_type": "markdown",
   "metadata": {},
   "source": [
    "## 3 Traveling Santa Problem"
   ]
  },
  {
   "cell_type": "markdown",
   "metadata": {},
   "source": [
    "It is quickly found that HRKs problem, as stated above, is the __[Traveling Salesman Problem](https://en.wikipedia.org/wiki/Travelling_salesman_problem)__ (TSP) which is about finding an optimal tour visiting each location of a set of locations exactly once. Having read on this problem, we find that the integer programming formulation of TSP can be stated as follows."
   ]
  },
  {
   "cell_type": "markdown",
   "metadata": {},
   "source": [
    "Given a set of $n$ locations indexed by $[1,n]\\cap\\mathrm{Z}$, TSP is solved by"
   ]
  },
  {
   "cell_type": "markdown",
   "metadata": {},
   "source": [
    "\\begin{align}\n",
    "    \\min_{x}\\sum_{i,j=1}^{n}\n",
    "    \\sum_{\\substack{j=1\\\\j\\neq i}}^{n}\n",
    "    x_{ij}c_{ij}\n",
    "\\end{align}"
   ]
  },
  {
   "cell_type": "markdown",
   "metadata": {},
   "source": [
    "when"
   ]
  },
  {
   "cell_type": "markdown",
   "metadata": {},
   "source": [
    "\\begin{align}\n",
    "    x_{ij}\n",
    "    &\\in\\{0,1\\}\n",
    "    &\\forall i,j\\in[1,n]\\cap\\mathrm{Z}\n",
    "\\end{align}"
   ]
  },
  {
   "cell_type": "markdown",
   "metadata": {},
   "source": [
    "subject to"
   ]
  },
  {
   "cell_type": "markdown",
   "metadata": {},
   "source": [
    "\\begin{align}\n",
    "    \\sum_{\\substack{i=1\\\\i\\neq j}}^{n} x_{ij}\n",
    "    &=1 & \\forall j\\in[1,n]\\cap\\mathrm{Z}\n",
    "    \\, ,\\\\\n",
    "    \\sum_{\\substack{j=1\\\\j\\neq i}}^{n} x_{ij}\n",
    "    &=1 & \\forall i\\in[1,n]\\cap\\mathrm{Z}\n",
    "    \\, ,\n",
    "\\end{align}"
   ]
  },
  {
   "cell_type": "markdown",
   "metadata": {},
   "source": [
    "and"
   ]
  },
  {
   "cell_type": "markdown",
   "metadata": {},
   "source": [
    "\\begin{align}\n",
    "    u_{i}\n",
    "    &\\in\\mathrm{Z}\n",
    "    \\, ,\\\\\n",
    "    u_{i}-u_{j}+nx_{ij}\n",
    "    &\\leq n-1\n",
    "    & \\forall i\\neq j; \n",
    "    i,j\\in[2,n]\\cap\\mathrm{Z}\\, ,\n",
    "    \\, ,\\\\\n",
    "    1\\leq u_{i}\n",
    "    &\\leq n-1\n",
    "    & \\forall i\\in[2,n]\\cap\\mathrm{Z}\\, ,\n",
    "\\end{align}"
   ]
  },
  {
   "cell_type": "markdown",
   "metadata": {},
   "source": [
    "Here, $x_{ij}$ is a binary variable denoting whether or not a route between locations $i$ and $j$ is taken while $c_{ij}$ denotes the travel time for this route. The equality constraints enforce that each location is visited exactly once. The inequality constraints known as the Miller-Tucker-Zemlin (MTZ) constraints eliminate subtours which guarantees that the plan can be executed. Instead of MTZ constraints, also the subtour elimination constraints"
   ]
  },
  {
   "cell_type": "markdown",
   "metadata": {},
   "source": [
    "\\begin{align}\n",
    "    \\sum_{i\\in S}\\sum_{j\\notin S} x_{i}\n",
    "    &\\geq\\lvert S \\rvert\n",
    "    & \\forall S\\subset [1,n]\\cap\\mathrm{Z},S\\neq \\emptyset\n",
    "\\end{align}"
   ]
  },
  {
   "cell_type": "markdown",
   "metadata": {},
   "source": [
    "could be used. In general, this would yield tighter formulations for the linear programming relaxations. However,  the downside would be that in a naive implementation the cardinality of the constraint set would become exponential instead of polynomial. \n",
    "\n",
    "Having setup the optimization problem, in order to solve it, we refer to the __[IBM&copy; Decision Optimization Tutorial](https://rawgit.com/IBMDecisionOptimization/docplex-doc/master/docs/mp/index.html)__.  This tutorial helps to setup and use the free Community Edition docplex.mp python API for IBM&copy; ILOG&copy; CPLEX optmization suite. More information about CPLEX can be found in the User's Manual found, for example, through __[IBM ILOG CPLEX Optimization Studio V12.6.3 documentation](https://www.ibm.com/support/knowledgecenter/en/SSSA5P_12.6.2/ilog.odms.studio.help/Optimization_Studio/topics/COS_home.html)__. After having read a minimal set of absolutely neccessary information, we can continuos with our task.\n",
    "\n",
    "First, we define the 'traveling santa problem' aka 'tsp' model"
   ]
  },
  {
   "cell_type": "code",
   "execution_count": 6,
   "metadata": {},
   "outputs": [],
   "source": [
    "model=Model(\"tsp\")"
   ]
  },
  {
   "cell_type": "markdown",
   "metadata": {},
   "source": [
    "for which we add both the binary"
   ]
  },
  {
   "cell_type": "code",
   "execution_count": 7,
   "metadata": {},
   "outputs": [],
   "source": [
    "lbl=range(len(location))\n",
    "x=model.binary_var_dict(\n",
    "    [(i, j) for i in lbl for j in lbl],\n",
    "    name='x')"
   ]
  },
  {
   "cell_type": "markdown",
   "metadata": {},
   "source": [
    "and integer"
   ]
  },
  {
   "cell_type": "code",
   "execution_count": 8,
   "metadata": {},
   "outputs": [],
   "source": [
    "u=model.integer_var_dict(\n",
    "    [i for i in lbl],\n",
    "    lb=0,\n",
    "    name='u')"
   ]
  },
  {
   "cell_type": "markdown",
   "metadata": {},
   "source": [
    "variables described above to the model. This gives the model summary"
   ]
  },
  {
   "cell_type": "code",
   "execution_count": 9,
   "metadata": {},
   "outputs": [
    {
     "name": "stdout",
     "output_type": "stream",
     "text": [
      "Model: tsp\n",
      " - number of variables: 30\n",
      "   - binary=25, integer=5, continuous=0\n",
      " - number of constraints: 0\n",
      "   - linear=0\n",
      " - parameters: defaults\n"
     ]
    }
   ],
   "source": [
    "model.print_information()"
   ]
  },
  {
   "cell_type": "markdown",
   "metadata": {},
   "source": [
    "which evidently lacks the constraints of the problem. To fix this, we can first add the equality constraints"
   ]
  },
  {
   "cell_type": "code",
   "execution_count": 10,
   "metadata": {},
   "outputs": [],
   "source": [
    "c_1_4=[model.add_constraint(model.sum(x[i,j] for j in lbl)==1) for i in lbl]\n",
    "c_1_5=[model.add_constraint(model.sum(x[i,j] for i in lbl)==1) for j in lbl]"
   ]
  },
  {
   "cell_type": "markdown",
   "metadata": {},
   "source": [
    "and define the helper function"
   ]
  },
  {
   "cell_type": "code",
   "execution_count": 11,
   "metadata": {},
   "outputs": [],
   "source": [
    "def exclude(A,i):\n",
    "    return [a for a in A if a!=i]"
   ]
  },
  {
   "cell_type": "markdown",
   "metadata": {},
   "source": [
    "to add the inequality constraints"
   ]
  },
  {
   "cell_type": "code",
   "execution_count": 12,
   "metadata": {},
   "outputs": [],
   "source": [
    "c_1_13=[]\n",
    "for i in exclude(lbl,0):\n",
    "    for j in [k for k in exclude(lbl,0) if k!=i]:\n",
    "        c_1_13.append(model.add_constraint(u[i]-u[j]+n*x[i,j]<=n-1))\n",
    "c_1_14=[model.add_constraint(u[i]<=n-1) for i in lbl]"
   ]
  },
  {
   "cell_type": "markdown",
   "metadata": {},
   "source": [
    "which should now provide a full specification of the varibles of the model. To check this, we print the model summary"
   ]
  },
  {
   "cell_type": "code",
   "execution_count": 13,
   "metadata": {},
   "outputs": [
    {
     "name": "stdout",
     "output_type": "stream",
     "text": [
      "Model: tsp\n",
      " - number of variables: 30\n",
      "   - binary=25, integer=5, continuous=0\n",
      " - number of constraints: 27\n",
      "   - linear=27\n",
      " - parameters: defaults\n"
     ]
    }
   ],
   "source": [
    "model.print_information()"
   ]
  },
  {
   "cell_type": "markdown",
   "metadata": {},
   "source": [
    "which seems about right. It then remains to complete the model by defining the optimization target. In order to do this, we first state that"
   ]
  },
  {
   "cell_type": "code",
   "execution_count": 14,
   "metadata": {},
   "outputs": [],
   "source": [
    "for i in range(n): cost[i,i]=1e+12"
   ]
  },
  {
   "cell_type": "markdown",
   "metadata": {},
   "source": [
    "which is a way to prevent pathological loops from forming. The objective funciton, or in short he loss, is then defined by"
   ]
  },
  {
   "cell_type": "code",
   "execution_count": 15,
   "metadata": {},
   "outputs": [],
   "source": [
    "loss=model.dot(\n",
    "    [x[k] for k in sorted(x.keys())],\n",
    "    cost.flatten())"
   ]
  },
  {
   "cell_type": "markdown",
   "metadata": {},
   "source": [
    "and the problem is set as a minimization task by"
   ]
  },
  {
   "cell_type": "code",
   "execution_count": 16,
   "metadata": {},
   "outputs": [],
   "source": [
    "model.minimize(loss)"
   ]
  },
  {
   "cell_type": "markdown",
   "metadata": {},
   "source": [
    "I believe that we have now fully setup the problem and that CPLEX can be issued to solve it. Indeed, by calling the solve method"
   ]
  },
  {
   "cell_type": "code",
   "execution_count": 17,
   "metadata": {},
   "outputs": [],
   "source": [
    "solution=model.solve()"
   ]
  },
  {
   "cell_type": "markdown",
   "metadata": {},
   "source": [
    "we find that everything sofar went as planned. In order to verify that this is really the case, and to access the plan, we need to examine the solution. In the first place, the optimal value of the objective function is "
   ]
  },
  {
   "cell_type": "code",
   "execution_count": 18,
   "metadata": {},
   "outputs": [
    {
     "data": {
      "text/plain": [
       "1.4475"
      ]
     },
     "execution_count": 18,
     "metadata": {},
     "output_type": "execute_result"
    }
   ],
   "source": [
    "model.objective_value"
   ]
  },
  {
   "cell_type": "markdown",
   "metadata": {},
   "source": [
    "while the values of the variables $x_{ij}$ and $u_{i}$ are"
   ]
  },
  {
   "cell_type": "code",
   "execution_count": 19,
   "metadata": {},
   "outputs": [
    {
     "name": "stdout",
     "output_type": "stream",
     "text": [
      "objective: 1.448\n",
      "  x_0_3=1\n",
      "  x_1_4=1\n",
      "  x_2_1=1\n",
      "  x_3_2=1\n",
      "  x_4_0=1\n",
      "  u_1=2\n",
      "  u_2=1\n",
      "  u_4=3\n"
     ]
    }
   ],
   "source": [
    "model.print_solution()"
   ]
  },
  {
   "cell_type": "markdown",
   "metadata": {},
   "source": [
    "which seem like reasonable values. Lastly, to check that the solver was succesful, the solve details can be accessed by calling"
   ]
  },
  {
   "cell_type": "code",
   "execution_count": 20,
   "metadata": {},
   "outputs": [
    {
     "data": {
      "text/plain": [
       "docplex.mp.SolveDetails(time=0.0158172,status='integer optimal solution')"
      ]
     },
     "execution_count": 20,
     "metadata": {},
     "output_type": "execute_result"
    }
   ],
   "source": [
    "model.get_solve_details()"
   ]
  },
  {
   "cell_type": "markdown",
   "metadata": {},
   "source": [
    "which returns a SolveDetails object. For our purposes, already this minimal output is sufficient, that is, the integer optimal solution was found and it took a fraction of a second to do so."
   ]
  },
  {
   "cell_type": "markdown",
   "metadata": {},
   "source": [
    "## 4 Visualization"
   ]
  },
  {
   "cell_type": "markdown",
   "metadata": {},
   "source": [
    "From the input above, it is not very easy to see that the optimal solution is in fact a tour or to understand how the tour proceeds. In order to visualize the solution in a simple but more transparent way, I decided to lookup a network (graph) library. As the result of a search, I found the __[networkx](https://networkx.github.io)__ library and decided to use it for visualizing the optimal tour. In order to provide networkx the graph induced by the optimal integer solution, it is useful to define the function"
   ]
  },
  {
   "cell_type": "code",
   "execution_count": 21,
   "metadata": {},
   "outputs": [],
   "source": [
    "def get_edges(x):\n",
    "    return (k for k,v in x.items() if v.solution_value==1)"
   ]
  },
  {
   "cell_type": "markdown",
   "metadata": {},
   "source": [
    "which converts the integer variables into a list of tuples describing the edges. It is then straightforward to generate the networkx graph"
   ]
  },
  {
   "cell_type": "code",
   "execution_count": 26,
   "metadata": {},
   "outputs": [],
   "source": [
    "G=nx.DiGraph()\n",
    "G.add_edges_from(get_edges(x))"
   ]
  },
  {
   "cell_type": "markdown",
   "metadata": {},
   "source": [
    "and visualize it using native function calls."
   ]
  },
  {
   "cell_type": "code",
   "execution_count": 32,
   "metadata": {},
   "outputs": [
    {
     "data": {
      "image/png": "[encoded data removed]",
      "text/plain": [
       "<Figure size 432x432 with 1 Axes>"
      ]
     },
     "metadata": {},
     "output_type": "display_data"
    }
   ],
   "source": [
    "fig,ax=plt.subplots(figsize=(6,6))\n",
    "options={\n",
    "    'arrows':True,\n",
    "    'arrowsize':18,\n",
    "    'with_labels':True,\n",
    "    'font_weight':'bold',\n",
    "    'font_size':12,\n",
    "    'font_color':'white',\n",
    "    'node_color':'black',\n",
    "    'node_size':1000,\n",
    "    'width':3}\n",
    "\n",
    "nx.draw(G,ax=ax,**options)"
   ]
  },
  {
   "cell_type": "markdown",
   "metadata": {},
   "source": [
    "From this visualization it is immediately clear that the solution is a tour and it is also easier to understand how the optimal tour proceeds."
   ]
  },
  {
   "cell_type": "markdown",
   "metadata": {},
   "source": [
    "## Conclusions"
   ]
  },
  {
   "cell_type": "markdown",
   "metadata": {},
   "source": [
    "In this notebook, I went through some elementary aspects related to routing problems by focusing on the travelling salesman problem. I also learned to use some basic functionalities of the IBM IBM&copy; ILOG&copy; CPLEX optimization suite. More importantly, as always with applications, HRK can now happily proceed with her Christmas plan. Curious elves can lookup the tour she is going to make in terms of the actual locations. It seems, however, that the almost two hours, which she needs to reserve for traveling, does not allow her to spend much time with the children. Perhaps some help would be in place, but how to revise the plan to make efficient use of helping hands. Moreover, how does the plan proposed here align with the usual sauna, dinner, etc. schedules of the families. How certain is it that the travel times between the homes are what they are and how does the plan change if the travel times would be unpredictable to some degree. For now, considering such aspects is another story, but perhaps also another opportunity to learn and to post the story.   "
   ]
  },
  {
   "cell_type": "code",
   "execution_count": null,
   "metadata": {},
   "outputs": [],
   "source": []
  }
 ],
 "metadata": {
  "kernelspec": {
   "display_name": "Python 3",
   "language": "python",
   "name": "python3"
  },
  "language_info": {
   "codemirror_mode": {
    "name": "ipython",
    "version": 3
   },
   "file_extension": ".py",
   "mimetype": "text/x-python",
   "name": "python",
   "nbconvert_exporter": "python",
   "pygments_lexer": "ipython3",
   "version": "3.6.5"
  }
 },
 "nbformat": 4,
 "nbformat_minor": 2
}
